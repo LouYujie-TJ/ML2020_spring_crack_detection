{
 "cells": [
  {
   "cell_type": "code",
   "execution_count": 1,
   "metadata": {},
   "outputs": [],
   "source": [
    "from models import SegmentNet, DecisionNet, weights_init_normal\n",
    "from dataset import KolektorDataset\n",
    "\n",
    "import torch.nn as nn\n",
    "import torch\n",
    "\n",
    "from torchvision import datasets\n",
    "from torchvision.utils import save_image\n",
    "import torchvision.transforms as transforms\n",
    "from torch.autograd import Variable\n",
    "from torch.utils.data import DataLoader\n",
    "\n",
    "import os\n",
    "import sys\n",
    "import argparse\n",
    "import time\n",
    "import PIL.Image as Image"
   ]
  },
  {
   "cell_type": "code",
   "execution_count": 4,
   "metadata": {},
   "outputs": [
    {
     "name": "stdout",
     "output_type": "stream",
     "text": [
      "Namespace(b1=0.5, b2=0.999, batch_size=2, begin_epoch=0, cuda=True, end_epoch=101, gpu_num=1, img_height=704, img_width=256, lr=0.0005, need_save=True, need_test=True, save_interval=10, test_interval=10, worker_num=0)\n"
     ]
    }
   ],
   "source": [
    "# 在ipynb文件中，parse的创建用函数来创建\n",
    "# 直接用parser=parser = argparse.ArgumentParser() 来创建之后调用会报错\n",
    "\n",
    "def get_arguments():\n",
    "    parser = argparse.ArgumentParser()\n",
    "\n",
    "    parser.add_argument(\"--cuda\", type=bool, default=True, help=\"number of gpu\")\n",
    "    parser.add_argument(\"--gpu_num\", type=int, default=1, help=\"number of gpu\")\n",
    "    parser.add_argument(\"--worker_num\", type=int, default=0, help=\"number of input workers\") # 只有一个GPU,default=0表示单进程加载\n",
    "    parser.add_argument(\"--batch_size\", type=int, default=2, help=\"batch size of input\")\n",
    "    parser.add_argument(\"--lr\", type=float, default=0.0005, help=\"adam: learning rate\")\n",
    "    parser.add_argument(\"--b1\", type=float, default=0.5, help=\"adam: decay of first order momentum of gradient\")\n",
    "    parser.add_argument(\"--b2\", type=float, default=0.999, help=\"adam: decay of first order momentum of gradient\")\n",
    "\n",
    "    parser.add_argument(\"--begin_epoch\", type=int, default=0, help=\"begin_epoch\")\n",
    "    parser.add_argument(\"--end_epoch\", type=int, default=101, help=\"end_epoch\")\n",
    "\n",
    "    parser.add_argument(\"--need_test\", type=bool, default=True, help=\"need to test\")\n",
    "    parser.add_argument(\"--test_interval\", type=int, default=10, help=\"interval of test\")\n",
    "    parser.add_argument(\"--need_save\", type=bool, default=True, help=\"need to save\")\n",
    "    parser.add_argument(\"--save_interval\", type=int, default=10, help=\"interval of save weights\")\n",
    "\n",
    "\n",
    "    parser.add_argument(\"--img_height\", type=int, default=704, help=\"size of image height\")\n",
    "    parser.add_argument(\"--img_width\", type=int, default=256, help=\"size of image width\")\n",
    "    \n",
    "    return parser.parse_args(args=[])\n",
    "\n",
    "opt = get_arguments()\n",
    "\n",
    "print(opt)"
   ]
  },
  {
   "cell_type": "code",
   "execution_count": 5,
   "metadata": {},
   "outputs": [],
   "source": [
    "dataSetRoot = \"./Data\" #\"/home/sean/Data/KolektorSDD_sean\"  # "
   ]
  },
  {
   "cell_type": "code",
   "execution_count": 6,
   "metadata": {},
   "outputs": [],
   "source": [
    "# Build nets\n",
    "segment_net = SegmentNet(init_weights=True)"
   ]
  },
  {
   "cell_type": "code",
   "execution_count": 7,
   "metadata": {},
   "outputs": [],
   "source": [
    "# Loss functions\n",
    "criterion_segment  = torch.nn.MSELoss()"
   ]
  },
  {
   "cell_type": "code",
   "execution_count": 8,
   "metadata": {},
   "outputs": [
    {
     "name": "stdout",
     "output_type": "stream",
     "text": [
      "用GPU计算损失函数\n"
     ]
    }
   ],
   "source": [
    "# 进行GPU，预处理模型以及初始化权重操作\n",
    "if opt.cuda:\n",
    "    segment_net = segment_net.cuda()\n",
    "    criterion_segment.cuda()\n",
    "    print(\"用GPU计算损失函数\")\n",
    "\n",
    "\n",
    "if opt.gpu_num > 1:\n",
    "    segment_net = torch.nn.DataParallel(segment_net, device_ids=list(range(opt.gpu_num)))\n",
    "\n",
    "if opt.begin_epoch != 0:\n",
    "    # Load pretrained models\n",
    "    segment_net.load_state_dict(torch.load(\"./saved_models/segment_net_%d.pth\" % (opt.begin_epoch)))\n",
    "else:\n",
    "    # Initialize weights\n",
    "    segment_net.apply(weights_init_normal)"
   ]
  },
  {
   "cell_type": "code",
   "execution_count": null,
   "metadata": {},
   "outputs": [],
   "source": [
    "# Optimizers\n",
    "optimizer_seg = torch.optim.Adam(segment_net.parameters(), lr=opt.lr, betas=(opt.b1, opt.b2))\n",
    "\n",
    "# transforms.Compose 串联多个图片变换的操作\n",
    "transforms_ = transforms.Compose([\n",
    "    \n",
    "    # Resize PIL图像，如果size为（h, w）,则将图像resize成这个尺寸\n",
    "    # 使用 Image.BICUBIC插值方法，可以获得较高分辨率的图像\n",
    "    transforms.Resize((opt.img_height, opt.img_width), Image.BICUBIC),\n",
    "    transforms.ToTensor(),\n",
    "    #transforms.Normalize((0.5, 0.5, 0.5), (0.5, 0.5, 0.5)),\n",
    "])\n",
    "\n",
    "transforms_mask = transforms.Compose([\n",
    "    transforms.Resize((opt.img_height//8, opt.img_width//8)),# 对图片宽高取整除\n",
    "    transforms.ToTensor(),\n",
    "    #transforms.Normalize((0.5, 0.5, 0.5), (0.5, 0.5, 0.5)),\n",
    "])"
   ]
  },
  {
   "cell_type": "code",
   "execution_count": null,
   "metadata": {},
   "outputs": [],
   "source": [
    "# 数据加载\n",
    "\n",
    "trainOKloader = DataLoader(\n",
    "    KolektorDataset(dataSetRoot, transforms_=transforms_, transforms_mask= transforms_mask, subFold=\"Train_OK\", isTrain=True),\n",
    "    batch_size=opt.batch_size,\n",
    "    shuffle=True,\n",
    "    num_workers=opt.worker_num,\n",
    ")\n",
    "\n",
    "trainNGloader = DataLoader(\n",
    "    KolektorDataset(dataSetRoot, transforms_=transforms_,  transforms_mask= transforms_mask, subFold=\"Train_NG\", isTrain=True),\n",
    "    batch_size=opt.batch_size,\n",
    "    shuffle=True,\n",
    "    num_workers=opt.worker_num,\n",
    ")\n",
    "\n",
    "'''\n",
    "trainloader =  DataLoader(\n",
    "    KolektorDataset(dataSetRoot, transforms_=transforms_,  transforms_mask= transforms_mask, subFold=\"Train_ALL\", isTrain=True),\n",
    "    batch_size=opt.batch_size,\n",
    "    shuffle=True,\n",
    "    num_workers=opt.worker_num,\n",
    ")\n",
    "'''\n",
    "\n",
    "testloader = DataLoader(\n",
    "    KolektorDataset(dataSetRoot, transforms_=transforms_, transforms_mask= transforms_mask,  subFold=\"Test\", isTrain=False),\n",
    "    batch_size=1,\n",
    "    shuffle=False,\n",
    "    num_workers=opt.worker_num,\n",
    ")"
   ]
  },
  {
   "cell_type": "code",
   "execution_count": null,
   "metadata": {},
   "outputs": [],
   "source": [
    "# 模型训练\n",
    "\n",
    "for epoch in range(opt.begin_epoch, opt.end_epoch):\n",
    "    \n",
    "    iterOK = trainOKloader.__iter__()\n",
    "    iterNG = trainNGloader.__iter__()\n",
    "\n",
    "    lenNum = min( len(trainNGloader), len(trainOKloader))\n",
    "    lenNum = 2*(lenNum-1)\n",
    "\n",
    "    segment_net.train()\n",
    "    # train *****************************************************************\n",
    "    for i in range(0, lenNum):\n",
    "        if i % 2 == 0:\n",
    "            batchData = iterOK.__next__()\n",
    "            #idx, batchData = enumerate(trainOKloader)\n",
    "        else :\n",
    "            batchData = iterNG.__next__()\n",
    "            #idx, batchData = enumerate(trainNGloader)\n",
    "\n",
    "        if opt.cuda:\n",
    "            img = batchData[\"img\"].cuda()\n",
    "            mask = batchData[\"mask\"].cuda()\n",
    "        else:\n",
    "            img = batchData[\"img\"]\n",
    "            mask = batchData[\"mask\"]\n",
    "\n",
    "        optimizer_seg.zero_grad()\n",
    "\n",
    "        rst = segment_net(img)\n",
    "\n",
    "        seg = rst[\"seg\"]\n",
    "\n",
    "        loss_seg = criterion_segment(seg, mask)\n",
    "        loss_seg.backward()\n",
    "        optimizer_seg.step()\n",
    "\n",
    "        sys.stdout.write(\n",
    "            \"\\r [Epoch %d/%d]  [Batch %d/%d] [loss %f]\"\n",
    "             %(\n",
    "                epoch,\n",
    "                opt.end_epoch,\n",
    "                i,\n",
    "                lenNum,\n",
    "                loss_seg.item()\n",
    "             )\n",
    "        )\n",
    "    \n",
    "    # test ****************************************************************************\n",
    "    if opt.need_test and epoch % opt.test_interval == 0 and epoch >= opt.test_interval:\n",
    "        # segment_net.eval()\n",
    "\n",
    "        for i, testBatch in enumerate(testloader):\n",
    "            imgTest = testBatch[\"img\"].cuda()\n",
    "            t1 = time.time()\n",
    "            rstTest = segment_net(imgTest)\n",
    "            t2 = time.time()\n",
    "            segTest = rstTest[\"seg\"]\n",
    "\n",
    "            save_path_str = \"./testResultSeg/epoch_%d\"%epoch\n",
    "            if os.path.exists(save_path_str) == False:\n",
    "                os.makedirs(save_path_str, exist_ok=True)\n",
    "                #os.mkdir(save_path_str)\n",
    "\n",
    "            print(\"processing image NO %d, time comsuption %fs\"%(i, t2 - t1))\n",
    "            save_image(imgTest.data, \"%s/img_%d.jpg\"% (save_path_str, i))\n",
    "            save_image(segTest.data, \"%s/img_%d_seg.jpg\"% (save_path_str, i))\n",
    "        \n",
    "        segment_net.train()\n",
    "\n",
    "    # save parameters *****************************************************************\n",
    "    if opt.need_save and epoch % opt.save_interval == 0 and epoch >= opt.save_interval:\n",
    "        #segment_net.eval()\n",
    "\n",
    "        save_path_str = \"./saved_models\"\n",
    "        if os.path.exists(save_path_str) == False:\n",
    "            os.makedirs(save_path_str, exist_ok=True)\n",
    "\n",
    "        torch.save(segment_net.state_dict(), \"%s/segment_net_%d.pth\" % (save_path_str, epoch))\n",
    "        print(\"save weights ! epoch = %d\"%epoch)\n",
    "        #segment_net.train()\n",
    "        pass"
   ]
  }
 ],
 "metadata": {
  "kernelspec": {
   "display_name": "Python 3",
   "language": "python",
   "name": "python3"
  },
  "language_info": {
   "codemirror_mode": {
    "name": "ipython",
    "version": 3
   },
   "file_extension": ".py",
   "mimetype": "text/x-python",
   "name": "python",
   "nbconvert_exporter": "python",
   "pygments_lexer": "ipython3",
   "version": "3.7.7"
  },
  "toc": {
   "base_numbering": 1,
   "nav_menu": {},
   "number_sections": true,
   "sideBar": true,
   "skip_h1_title": false,
   "title_cell": "Table of Contents",
   "title_sidebar": "Contents",
   "toc_cell": false,
   "toc_position": {},
   "toc_section_display": true,
   "toc_window_display": false
  },
  "varInspector": {
   "cols": {
    "lenName": 16,
    "lenType": 16,
    "lenVar": 40
   },
   "kernels_config": {
    "python": {
     "delete_cmd_postfix": "",
     "delete_cmd_prefix": "del ",
     "library": "var_list.py",
     "varRefreshCmd": "print(var_dic_list())"
    },
    "r": {
     "delete_cmd_postfix": ") ",
     "delete_cmd_prefix": "rm(",
     "library": "var_list.r",
     "varRefreshCmd": "cat(var_dic_list()) "
    }
   },
   "types_to_exclude": [
    "module",
    "function",
    "builtin_function_or_method",
    "instance",
    "_Feature"
   ],
   "window_display": false
  }
 },
 "nbformat": 4,
 "nbformat_minor": 4
}
