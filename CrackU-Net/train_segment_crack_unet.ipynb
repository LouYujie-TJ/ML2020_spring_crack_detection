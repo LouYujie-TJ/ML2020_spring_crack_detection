{
 "cells": [
  {
   "cell_type": "code",
   "execution_count": null,
   "metadata": {},
   "outputs": [],
   "source": [
    "!nvidia-smi # 查看GPU信息"
   ]
  },
  {
   "cell_type": "code",
   "execution_count": null,
   "metadata": {},
   "outputs": [],
   "source": [
    "from google.colab import drive\n",
    "drive.mount('/content/drive')"
   ]
  },
  {
   "cell_type": "code",
   "execution_count": null,
   "metadata": {},
   "outputs": [],
   "source": [
    "#进入需要训练项目的文件夹\n",
    "%cd /content/drive/My Drive/Colab Notebooks/ML2020_spring_crack_detection"
   ]
  },
  {
   "cell_type": "code",
   "execution_count": null,
   "metadata": {},
   "outputs": [],
   "source": [
    "!pip install torch torchvision"
   ]
  },
  {
   "cell_type": "code",
   "execution_count": null,
   "metadata": {},
   "outputs": [],
   "source": [
    "from models_crack_unet import SegmentNet, weights_init_normal\n",
    "from dataset_crack_unet import CFDDataset\n",
    "\n",
    "import torch.nn as nn\n",
    "import torch\n",
    "\n",
    "from torchvision import datasets\n",
    "from torchvision.utils import save_image\n",
    "import torchvision.transforms as transforms\n",
    "from torch.autograd import Variable\n",
    "from torch.utils.data import DataLoader\n",
    "\n",
    "import os\n",
    "import sys\n",
    "import argparse\n",
    "import time\n",
    "import PIL.Image as Image\n",
    "\n",
    "import numpy as np"
   ]
  },
  {
   "cell_type": "code",
   "execution_count": null,
   "metadata": {},
   "outputs": [],
   "source": [
    "# 在ipynb文件中，parse的创建用函数来创建\n",
    "# 直接用parser=parser = argparse.ArgumentParser() 来创建之后调用会报错\n",
    "\n",
    "def get_arguments():\n",
    "    parser = argparse.ArgumentParser()\n",
    "\n",
    "    parser.add_argument(\"--cuda\", type=bool, default=True, help=\"number of gpu\")\n",
    "    parser.add_argument(\"--gpu_num\", type=int, default=1, help=\"number of gpu\")\n",
    "    parser.add_argument(\"--worker_num\", type=int, default=0, help=\"number of input workers\") # 只有一个GPU,default=0表示单进程加载\n",
    "    parser.add_argument(\"--batch_size\", type=int, default=2, help=\"batch size of input\")\n",
    "    parser.add_argument(\"--lr\", type=float, default=0.0005, help=\"adam: learning rate\")\n",
    "    parser.add_argument(\"--b1\", type=float, default=0.5, help=\"adam: decay of first order momentum of gradient\")\n",
    "    parser.add_argument(\"--b2\", type=float, default=0.999, help=\"adam: decay of first order momentum of gradient\")\n",
    "\n",
    "    parser.add_argument(\"--begin_epoch\", type=int, default=0, help=\"begin_epoch\")\n",
    "    parser.add_argument(\"--end_epoch\", type=int, default=101, help=\"end_epoch\")\n",
    "\n",
    "    parser.add_argument(\"--need_test\", type=bool, default=True, help=\"need to test\")\n",
    "    parser.add_argument(\"--test_interval\", type=int, default=10, help=\"interval of test\")\n",
    "    parser.add_argument(\"--need_save\", type=bool, default=True, help=\"need to save\")\n",
    "    parser.add_argument(\"--save_interval\", type=int, default=10, help=\"interval of save weights\")\n",
    "\n",
    "\n",
    "    parser.add_argument(\"--img_width\", type=int, default=480, help=\"size of image width\")\n",
    "    parser.add_argument(\"--img_height\", type=int, default=320, help=\"size of image height\")\n",
    "    \n",
    "    return parser.parse_args(args=[])\n",
    "\n",
    "opt = get_arguments()\n",
    "\n",
    "print(opt)"
   ]
  },
  {
   "cell_type": "code",
   "execution_count": null,
   "metadata": {},
   "outputs": [],
   "source": [
    "dataSetRoot = \"../Data\" "
   ]
  },
  {
   "cell_type": "code",
   "execution_count": null,
   "metadata": {},
   "outputs": [],
   "source": [
    "# Build nets\n",
    "segment_net = SegmentNet(init_weights=True)\n",
    "\n",
    "# Loss functions\n",
    "criterion_segment  = torch.nn.MSELoss()"
   ]
  },
  {
   "cell_type": "code",
   "execution_count": null,
   "metadata": {},
   "outputs": [],
   "source": [
    "# 选择训练环境和参数\n",
    "if opt.cuda:\n",
    "    segment_net = segment_net.cuda()\n",
    "    criterion_segment.cuda()\n",
    "\n",
    "if opt.gpu_num > 1:\n",
    "    segment_net = torch.nn.DataParallel(segment_net, device_ids=list(range(opt.gpu_num)))\n",
    "\n",
    "if opt.begin_epoch != 0:\n",
    "    # Load pretrained models\n",
    "    segment_net.load_state_dict(torch.load(\"./saved_models/segment_net_%d.pth\" % (opt.begin_epoch)))\n",
    "else:\n",
    "    # Initialize weights\n",
    "    segment_net.apply(weights_init_normal)"
   ]
  },
  {
   "cell_type": "code",
   "execution_count": null,
   "metadata": {},
   "outputs": [],
   "source": [
    "# Optimizers\n",
    "optimizer_seg = torch.optim.Adam(segment_net.parameters(), lr=opt.lr, betas=(opt.b1, opt.b2))"
   ]
  },
  {
   "cell_type": "code",
   "execution_count": null,
   "metadata": {},
   "outputs": [],
   "source": [
    "transforms_ = transforms.Compose([\n",
    "    transforms.Resize((opt.img_height, opt.img_width), Image.BICUBIC),\n",
    "    transforms.ToTensor()\n",
    "])\n",
    "\n",
    "transforms_mask = transforms.Compose([\n",
    "    transforms.Resize((opt.img_height, opt.img_width)), \n",
    "    transforms.ToTensor()\n",
    "])"
   ]
  },
  {
   "cell_type": "code",
   "execution_count": null,
   "metadata": {},
   "outputs": [],
   "source": [
    "trainCFDloader = DataLoader(\n",
    "    CFDDataset(dataSetRoot, transforms_=transforms_, transforms_mask= transforms_mask, subFold=\"CFD\", isTrain=True),\n",
    "    batch_size=opt.batch_size,\n",
    "    shuffle=True,\n",
    "    num_workers=opt.worker_num,\n",
    ")"
   ]
  },
  {
   "cell_type": "code",
   "execution_count": null,
   "metadata": {},
   "outputs": [],
   "source": [
    "for epoch in range(opt.begin_epoch, opt.end_epoch):\n",
    "\n",
    "    iterCFD = trainCFDloader.__iter__()\n",
    "\n",
    "    lenNum = len(trainCFDloader)\n",
    "\n",
    "    segment_net.train()\n",
    "    # train *****************************************************************\n",
    "\n",
    "    # 存储每一个epoch的总损失和总精度\n",
    "    train_loss_sum, train_acc_sum, batch_count = 0.0, 0.0, 0.0\n",
    "\n",
    "    for i in range(0, lenNum):\n",
    "        #if i % 2 == 0:\n",
    "            #batchData = iterOK.__next__()\n",
    "            #idx, batchData = enumerate(trainOKloader)\n",
    "        #else :\n",
    "        #    batchData = iterNG.__next__()\n",
    "            #idx, batchData = enumerate(trainNGloader)\n",
    "        \n",
    "        batchData = iterCFD.__next__()\n",
    "\n",
    "        if opt.cuda:\n",
    "            img = batchData[\"img\"].cuda()\n",
    "            mask = batchData[\"mask\"].cuda()\n",
    "        else:\n",
    "            img = batchData[\"img\"]\n",
    "            mask = batchData[\"mask\"]\n",
    "\n",
    "        optimizer_seg.zero_grad()\n",
    "\n",
    "        rst = segment_net(img)\n",
    "        seg = rst[\"seg\"]\n",
    "        # print(seg.size())  输出：torch.Size([2, 1, 88, 32])\n",
    "\n",
    "        loss_seg = criterion_segment(seg, mask)\n",
    "        loss_seg.backward()\n",
    "        optimizer_seg.step()\n",
    "\n",
    "        train_loss_sum += loss_seg.item() \n",
    "    \n",
    "        \n",
    "         # 计算seg精度\n",
    "        net_seg = seg.clone().flatten()    # 训练值\n",
    "        mask_seg = mask.clone().flatten()  #真实值\n",
    "        \n",
    "        right_seg = torch.eq(net_seg, mask_seg).sum().float().item()\n",
    "        total_num = float(mask.clone().flatten().size()[0])\n",
    "        \n",
    "        batch_acc = right_seg/total_num\n",
    "        train_acc_sum += batch_acc\n",
    "        \n",
    "        batch_count += 1\n",
    "\n",
    "    print(\"[Epoch {0}/{1}], [loss:{2}], [accuracy:{3}]\".format(epoch, opt.end_epoch, train_loss_sum/batch_count, train_acc_sum/batch_count))\n",
    "\n",
    "\n",
    "\n",
    "    # save parameters *****************************************************************\n",
    "    if opt.need_save and epoch % opt.save_interval == 0 and epoch >= opt.save_interval:\n",
    "\n",
    "        save_path_str = \"./saved_models\"\n",
    "        if os.path.exists(save_path_str) == False:\n",
    "            os.makedirs(save_path_str, exist_ok=True)\n",
    "\n",
    "        torch.save(segment_net.state_dict(), \"%s/segment_net_%d.pth\" % (save_path_str, epoch))\n",
    "        print(\"save weights ! epoch = %d\" %epoch)\n",
    "        pass"
   ]
  },
  {
   "cell_type": "code",
   "execution_count": null,
   "metadata": {},
   "outputs": [],
   "source": []
  }
 ],
 "metadata": {
  "kernelspec": {
   "display_name": "Python 3",
   "language": "python",
   "name": "python3"
  },
  "language_info": {
   "codemirror_mode": {
    "name": "ipython",
    "version": 3
   },
   "file_extension": ".py",
   "mimetype": "text/x-python",
   "name": "python",
   "nbconvert_exporter": "python",
   "pygments_lexer": "ipython3",
   "version": "3.7.7"
  },
  "toc": {
   "base_numbering": 1,
   "nav_menu": {},
   "number_sections": true,
   "sideBar": true,
   "skip_h1_title": false,
   "title_cell": "Table of Contents",
   "title_sidebar": "Contents",
   "toc_cell": false,
   "toc_position": {},
   "toc_section_display": true,
   "toc_window_display": false
  },
  "varInspector": {
   "cols": {
    "lenName": 16,
    "lenType": 16,
    "lenVar": 40
   },
   "kernels_config": {
    "python": {
     "delete_cmd_postfix": "",
     "delete_cmd_prefix": "del ",
     "library": "var_list.py",
     "varRefreshCmd": "print(var_dic_list())"
    },
    "r": {
     "delete_cmd_postfix": ") ",
     "delete_cmd_prefix": "rm(",
     "library": "var_list.r",
     "varRefreshCmd": "cat(var_dic_list()) "
    }
   },
   "types_to_exclude": [
    "module",
    "function",
    "builtin_function_or_method",
    "instance",
    "_Feature"
   ],
   "window_display": false
  }
 },
 "nbformat": 4,
 "nbformat_minor": 4
}
