{
 "cells": [
  {
   "cell_type": "code",
   "execution_count": null,
   "metadata": {},
   "outputs": [],
   "source": [
    "from models import SegmentNet, DecisionNet, weights_init_normal\n",
    "from dataset import KolektorDataset\n",
    "\n",
    "import torch.nn as nn\n",
    "import torch\n",
    "\n",
    "from torchvision import datasets\n",
    "from torchvision.utils import save_image\n",
    "import torchvision.transforms as transforms\n",
    "from torch.autograd import Variable\n",
    "from torch.utils.data import DataLoader\n",
    "\n",
    "import os\n",
    "import sys\n",
    "import argparse\n",
    "import time\n",
    "import PIL.Image as Image"
   ]
  },
  {
   "cell_type": "code",
   "execution_count": null,
   "metadata": {},
   "outputs": [],
   "source": [
    "def get_arguments():\n",
    "\n",
    "    parser = argparse.ArgumentParser()\n",
    "\n",
    "    parser.add_argument(\"--cuda\", type=bool, default=True, help=\"number of gpu\")\n",
    "    parser.add_argument(\"--test_seg_epoch\", type=int, default=60, help=\"test segment epoch\")\n",
    "    parser.add_argument(\"--test_dec_epoch\", type=int, default=60, help=\"test segment epoch\")\n",
    "    parser.add_argument(\"--img_height\", type=int, default=704, help=\"size of image height\")\n",
    "    parser.add_argument(\"--img_width\", type=int, default=256, help=\"size of image width\")\n",
    "    \n",
    "    return parser.parse_args(args=[])\n",
    "\n",
    "opt = get_arguments()\n",
    "\n",
    "print(opt)"
   ]
  },
  {
   "cell_type": "code",
   "execution_count": null,
   "metadata": {},
   "outputs": [],
   "source": [
    "dataSetRoot = \"./Data\""
   ]
  },
  {
   "cell_type": "code",
   "execution_count": null,
   "metadata": {},
   "outputs": [],
   "source": [
    "# Build nets\n",
    "segment_net = SegmentNet(init_weights=True)\n",
    "decision_net = DecisionNet(init_weights=True)"
   ]
  },
  {
   "cell_type": "code",
   "execution_count": null,
   "metadata": {},
   "outputs": [],
   "source": [
    "if opt.cuda:\n",
    "    segment_net = segment_net.cuda()\n",
    "    decision_net = decision_net.cuda()\n",
    "\n",
    "if opt.test_seg_epoch != 0:\n",
    "    # Load pretrained models\n",
    "    segment_net.load_state_dict(torch.load(\"./saved_models/segment_net_%d.pth\" % (opt.test_seg_epoch)))\n",
    "\n",
    "if opt.test_dec_epoch != 0:\n",
    "    # Load pretrained models\n",
    "    decision_net.load_state_dict(torch.load(\"./saved_models/decision_net_%d.pth\" % (opt.test_dec_epoch)))"
   ]
  },
  {
   "cell_type": "code",
   "execution_count": null,
   "metadata": {},
   "outputs": [],
   "source": [
    "transforms_ = transforms.Compose([\n",
    "    transforms.Resize((opt.img_height, opt.img_width), Image.BICUBIC),\n",
    "    transforms.ToTensor(),\n",
    "    #transforms.Normalize((0.5, 0.5, 0.5), (0.5, 0.5, 0.5)),\n",
    "])\n",
    "\n",
    "\n",
    "testloader = DataLoader(\n",
    "    KolektorDataset(dataSetRoot, transforms_=transforms_, transforms_mask= None,  subFold=\"CFD/cfd_TEST\", isTrain=False),\n",
    "    batch_size=1,\n",
    "    shuffle=False,\n",
    "    num_workers=0,\n",
    ")"
   ]
  },
  {
   "cell_type": "code",
   "execution_count": null,
   "metadata": {},
   "outputs": [],
   "source": [
    "#segment_net.eval()\n",
    "#decision_net.eval()\n",
    "\n",
    "for i, testBatch in enumerate(testloader):\n",
    "    \n",
    "    torch.cuda.synchronize()\n",
    "\n",
    "    t1 = time.time()\n",
    "    imgTest = testBatch[\"img\"].cuda()\n",
    "\n",
    "    \n",
    "\n",
    "    with torch.no_grad():\n",
    "        rstTest = segment_net(imgTest)\n",
    "\n",
    "    fTest = rstTest[\"f\"]\n",
    "    segTest = rstTest[\"seg\"]\n",
    "\n",
    "    with torch.no_grad():\n",
    "        cTest = decision_net(fTest, segTest)\n",
    "\n",
    "    torch.cuda.synchronize()\n",
    "    t2 = time.time()\n",
    "\n",
    "    if cTest.item() > 0.5:\n",
    "        labelStr = \"crack_yes\"\n",
    "    else: \n",
    "        labelStr = \"crack_no\"\n",
    "\n",
    "    save_path_str = os.path.join(dataSetRoot, \"testResult\")\n",
    "\n",
    "    if os.path.exists(save_path_str) == False:\n",
    "        os.makedirs(save_path_str, exist_ok=True)\n",
    "\n",
    "    print(\"processing image NO %d, time comsuption %fs\"%(i, t2 - t1))\n",
    "    save_image(imgTest.data, \"%s/img_%d_%s.jpg\"% (save_path_str, i, labelStr))\n",
    "    save_image(segTest.data, \"%s/img_%d_seg_%s.jpg\"% (save_path_str, i, labelStr))"
   ]
  }
 ],
 "metadata": {
  "kernelspec": {
   "display_name": "Python 3",
   "language": "python",
   "name": "python3"
  },
  "language_info": {
   "codemirror_mode": {
    "name": "ipython",
    "version": 3
   },
   "file_extension": ".py",
   "mimetype": "text/x-python",
   "name": "python",
   "nbconvert_exporter": "python",
   "pygments_lexer": "ipython3",
   "version": "3.7.7"
  },
  "toc": {
   "base_numbering": 1,
   "nav_menu": {},
   "number_sections": true,
   "sideBar": true,
   "skip_h1_title": false,
   "title_cell": "Table of Contents",
   "title_sidebar": "Contents",
   "toc_cell": false,
   "toc_position": {},
   "toc_section_display": true,
   "toc_window_display": false
  },
  "varInspector": {
   "cols": {
    "lenName": 16,
    "lenType": 16,
    "lenVar": 40
   },
   "kernels_config": {
    "python": {
     "delete_cmd_postfix": "",
     "delete_cmd_prefix": "del ",
     "library": "var_list.py",
     "varRefreshCmd": "print(var_dic_list())"
    },
    "r": {
     "delete_cmd_postfix": ") ",
     "delete_cmd_prefix": "rm(",
     "library": "var_list.r",
     "varRefreshCmd": "cat(var_dic_list()) "
    }
   },
   "types_to_exclude": [
    "module",
    "function",
    "builtin_function_or_method",
    "instance",
    "_Feature"
   ],
   "window_display": false
  }
 },
 "nbformat": 4,
 "nbformat_minor": 4
}
