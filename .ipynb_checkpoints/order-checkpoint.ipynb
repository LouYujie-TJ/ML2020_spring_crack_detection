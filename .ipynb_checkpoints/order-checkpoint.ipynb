{
 "cells": [
  {
   "cell_type": "code",
   "execution_count": null,
   "metadata": {},
   "outputs": [],
   "source": [
    "# 在ipynb文件中来直接运行py文件"
   ]
  },
  {
   "cell_type": "code",
   "execution_count": 1,
   "metadata": {},
   "outputs": [],
   "source": [
    "import argparse"
   ]
  },
  {
   "cell_type": "code",
   "execution_count": 2,
   "metadata": {},
   "outputs": [
    {
     "data": {
      "text/plain": [
       "_StoreAction(option_strings=['--img_width'], dest='img_width', nargs=None, const=None, default=256, type=<class 'int'>, choices=None, help='size of image width', metavar=None)"
      ]
     },
     "execution_count": 2,
     "metadata": {},
     "output_type": "execute_result"
    }
   ],
   "source": [
    "parser = argparse.ArgumentParser()\n",
    "\n",
    "parser.add_argument(\"--cuda\", type=bool, default=True, help=\"number of gpu\")\n",
    "parser.add_argument(\"--gpu_num\", type=int, default=1, help=\"number of gpu\")\n",
    "parser.add_argument(\"--worker_num\", type=int, default=4, help=\"number of input workers\")\n",
    "parser.add_argument(\"--batch_size\", type=int, default=2, help=\"batch size of input\")\n",
    "parser.add_argument(\"--lr\", type=float, default=0.0005, help=\"adam: learning rate\")\n",
    "parser.add_argument(\"--b1\", type=float, default=0.5, help=\"adam: decay of first order momentum of gradient\")\n",
    "parser.add_argument(\"--b2\", type=float, default=0.999, help=\"adam: decay of first order momentum of gradient\")\n",
    "\n",
    "parser.add_argument(\"--begin_epoch\", type=int, default=0, help=\"begin_epoch\")\n",
    "parser.add_argument(\"--end_epoch\", type=int, default=101, help=\"end_epoch\")\n",
    "\n",
    "parser.add_argument(\"--need_test\", type=bool, default=True, help=\"need to test\")\n",
    "parser.add_argument(\"--test_interval\", type=int, default=10, help=\"interval of test\")\n",
    "parser.add_argument(\"--need_save\", type=bool, default=True, help=\"need to save\")\n",
    "parser.add_argument(\"--save_interval\", type=int, default=10, help=\"interval of save weights\")\n",
    "\n",
    "\n",
    "parser.add_argument(\"--img_height\", type=int, default=704, help=\"size of image height\")\n",
    "parser.add_argument(\"--img_width\", type=int, default=256, help=\"size of image width\")"
   ]
  },
  {
   "cell_type": "code",
   "execution_count": 3,
   "metadata": {
    "scrolled": true
   },
   "outputs": [
    {
     "name": "stderr",
     "output_type": "stream",
     "text": [
      "usage: ipykernel_launcher.py [-h] [--cuda CUDA] [--gpu_num GPU_NUM]\n",
      "                             [--worker_num WORKER_NUM]\n",
      "                             [--batch_size BATCH_SIZE] [--lr LR] [--b1 B1]\n",
      "                             [--b2 B2] [--begin_epoch BEGIN_EPOCH]\n",
      "                             [--end_epoch END_EPOCH] [--need_test NEED_TEST]\n",
      "                             [--test_interval TEST_INTERVAL]\n",
      "                             [--need_save NEED_SAVE]\n",
      "                             [--save_interval SAVE_INTERVAL]\n",
      "                             [--img_height IMG_HEIGHT] [--img_width IMG_WIDTH]\n",
      "ipykernel_launcher.py: error: unrecognized arguments: -f C:\\Users\\DengYunpeng\\AppData\\Roaming\\jupyter\\runtime\\kernel-efea55b8-e432-486b-9235-efc1a1a22ab6.json\n"
     ]
    },
    {
     "ename": "SystemExit",
     "evalue": "2",
     "output_type": "error",
     "traceback": [
      "An exception has occurred, use %tb to see the full traceback.\n",
      "\u001b[1;31mSystemExit\u001b[0m\u001b[1;31m:\u001b[0m 2\n"
     ]
    },
    {
     "name": "stderr",
     "output_type": "stream",
     "text": [
      "D:\\Anaconda\\envs\\PyTorch\\lib\\site-packages\\IPython\\core\\interactiveshell.py:3339: UserWarning: To exit: use 'exit', 'quit', or Ctrl-D.\n",
      "  warn(\"To exit: use 'exit', 'quit', or Ctrl-D.\", stacklevel=1)\n"
     ]
    }
   ],
   "source": [
    "opt = parser.parse_args()\n",
    "\n",
    "#print(opt)"
   ]
  },
  {
   "cell_type": "code",
   "execution_count": null,
   "metadata": {},
   "outputs": [],
   "source": []
  },
  {
   "cell_type": "code",
   "execution_count": null,
   "metadata": {},
   "outputs": [],
   "source": []
  },
  {
   "cell_type": "code",
   "execution_count": null,
   "metadata": {},
   "outputs": [],
   "source": [
    "!python train_segment.py"
   ]
  },
  {
   "cell_type": "code",
   "execution_count": null,
   "metadata": {},
   "outputs": [],
   "source": []
  }
 ],
 "metadata": {
  "kernelspec": {
   "display_name": "Python 3",
   "language": "python",
   "name": "python3"
  },
  "language_info": {
   "codemirror_mode": {
    "name": "ipython",
    "version": 3
   },
   "file_extension": ".py",
   "mimetype": "text/x-python",
   "name": "python",
   "nbconvert_exporter": "python",
   "pygments_lexer": "ipython3",
   "version": "3.7.7"
  },
  "toc": {
   "base_numbering": 1,
   "nav_menu": {},
   "number_sections": true,
   "sideBar": true,
   "skip_h1_title": false,
   "title_cell": "Table of Contents",
   "title_sidebar": "Contents",
   "toc_cell": false,
   "toc_position": {},
   "toc_section_display": true,
   "toc_window_display": false
  },
  "varInspector": {
   "cols": {
    "lenName": 16,
    "lenType": 16,
    "lenVar": 40
   },
   "kernels_config": {
    "python": {
     "delete_cmd_postfix": "",
     "delete_cmd_prefix": "del ",
     "library": "var_list.py",
     "varRefreshCmd": "print(var_dic_list())"
    },
    "r": {
     "delete_cmd_postfix": ") ",
     "delete_cmd_prefix": "rm(",
     "library": "var_list.r",
     "varRefreshCmd": "cat(var_dic_list()) "
    }
   },
   "types_to_exclude": [
    "module",
    "function",
    "builtin_function_or_method",
    "instance",
    "_Feature"
   ],
   "window_display": false
  }
 },
 "nbformat": 4,
 "nbformat_minor": 4
}
